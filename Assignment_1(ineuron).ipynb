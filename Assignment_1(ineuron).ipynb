{
 "cells": [
  {
   "cell_type": "markdown",
   "id": "7da1f27e-8582-4532-8191-a54ace715167",
   "metadata": {},
   "source": [
    "Q1. In the below elements which of them are values or an expression? eg:- values can be\n",
    "integer or string and expressions will be mathematical operators."
   ]
  },
  {
   "cell_type": "markdown",
   "id": "0bdf7256-8c89-4c2a-adbb-71648171b7e6",
   "metadata": {},
   "source": [
    "Ans:-\n",
    "\n",
    "Values are:\\\n",
    "  'hello' (string),\n",
    "  \n",
    "   -87.8 (float),\n",
    "   \n",
    "   6 (integer).\n",
    "\n",
    "Expressions:\n",
    "\n",
    "     * (multiplication operator)\n",
    "     - (subtraction operator)\n",
    "     / (division operator)\n",
    "     + (addition operator)\n"
   ]
  },
  {
   "cell_type": "markdown",
   "id": "b0957ff7-92d4-481c-a0c9-a64ac4aa38fc",
   "metadata": {},
   "source": [
    "Q2. What is the difference between string and variable?"
   ]
  },
  {
   "cell_type": "markdown",
   "id": "dbe7f0c3-cfbd-4b7f-8db6-bffbfd7403ab",
   "metadata": {},
   "source": [
    "Ans:-\n",
    "A string is a sequence of characters enclosed in quotation marks, either single (' ') or double (\" \").\n",
    "Strings can contain letters, numbers, symbols, and whitespace.\n",
    "Examples of strings: \"Hello, world!\"\n",
    "\n",
    "A variable is a named reference to a value stored in memory.\n",
    "Variables can be assigned different types of values, including strings, numbers, booleans, objects, or other data types.\n",
    "Variables are dynamically typed, meaning you don't need to specify the type explicitly during declaration. The type is inferred based on the assigned value.\n",
    "Example of variable declaration and assignment\n",
    "\n",
    "my_veriable = \"Hello, world\""
   ]
  },
  {
   "cell_type": "markdown",
   "id": "492a5765-24b5-4d30-b7bf-8c74ec8c1038",
   "metadata": {},
   "source": [
    "Q3. Describe three different data types."
   ]
  },
  {
   "cell_type": "markdown",
   "id": "f1d74268-724e-4748-b191-f704e8809aeb",
   "metadata": {},
   "source": [
    "Integer:\n",
    "The integer data type represents whole numbers without any fractional or decimal part.\n",
    "Examples of integers: -5, 0, 42, 1000.\n",
    "Integers can be positive or negative.\n",
    "\n",
    "String:\n",
    "The string data type represents a sequence of characters.\n",
    "Strings are used to store and manipulate textual data.\n",
    "Examples of strings: \"Hello, world!\", 'Python', \"12345\".\n",
    "\n",
    "Boolean:\n",
    "The boolean data type represents two possible values: True or False.\n",
    "Booleans are often used in programming for logical comparisons and conditional statements.\n",
    "Examples of boolean values: True, False."
   ]
  },
  {
   "cell_type": "markdown",
   "id": "882423c0-48df-4561-bb88-e1db79b30b9a",
   "metadata": {},
   "source": [
    "Q4. What is an expression made up of? What do all expressions do?"
   ]
  },
  {
   "cell_type": "markdown",
   "id": "67b2c375-be84-442f-b8d1-1df586ee4164",
   "metadata": {},
   "source": [
    "An expression is made up of one or more operands and operators. It represents a computation or a value.\n",
    "\n",
    "Operators: These are symbols or keywords that perform specific operations on the operands. Examples of operators include arithmetic operators (+, -, *, /), comparison operators (<, >, ==, !=), logical operators (and, or, not), and more.\n",
    "\n",
    "Parentheses: These are used to group parts of an expression, establishing precedence and controlling the order of evaluation. For example, in the expression (2 + 3) * 4, the parentheses ensure that addition is performed before multiplication."
   ]
  },
  {
   "cell_type": "markdown",
   "id": "eb3c6c98-f575-4dd9-84d2-ba8ae767dbd6",
   "metadata": {},
   "source": [
    "Q5. This assignment statements, like spam = 10. What is the difference between\n",
    "an expression and a statement?"
   ]
  },
  {
   "cell_type": "markdown",
   "id": "2fb510a6-2260-4ddd-b6f9-3e535e70d39f",
   "metadata": {},
   "source": [
    "Expression:\n",
    "An expression is a combination of operands, operators, and sometimes parentheses that evaluates to a value.\n",
    "Expressions can be as simple as a single value or can involve complex computations\n",
    "\n",
    "Statement:\n",
    "A statement is a complete instruction or action that performs a specific task or operation.\n",
    "Statements can include expressions, but they can also include other elements such as keywords, control structures, or assignments.\n",
    "Statements typically perform an action or change the state of the program.\n",
    "\n",
    "\n",
    "\n",
    "\n"
   ]
  },
  {
   "cell_type": "markdown",
   "id": "b742f51b-d94e-43cf-bcaf-6ba998df12e3",
   "metadata": {},
   "source": [
    "Q6. After running the following code, what does the variable bacon contain?\\\n",
    "bacon = 22\\\n",
    "bacon + 1\n"
   ]
  },
  {
   "cell_type": "code",
   "execution_count": 1,
   "id": "93da254c-aa7a-422c-be99-71d05dd1977f",
   "metadata": {},
   "outputs": [
    {
     "data": {
      "text/plain": [
       "23"
      ]
     },
     "execution_count": 1,
     "metadata": {},
     "output_type": "execute_result"
    }
   ],
   "source": [
    "bacon = 22\n",
    "bacon + 1"
   ]
  },
  {
   "cell_type": "markdown",
   "id": "27db4c60-c685-4c43-b2cc-675478098866",
   "metadata": {},
   "source": [
    "Q7. What should the values of the following two terms be?\\\n",
    "'spam'+ spamspam'\\\n",
    "'spam' * 3"
   ]
  },
  {
   "cell_type": "markdown",
   "id": "6b223fa7-4f71-4e2b-b1c8-bd2dd74963eb",
   "metadata": {},
   "source": [
    "'spam' + 'spamspam':\n",
    "The + operator, when used with strings, performs concatenation, which joins the two strings together.\n",
    "So, 'spam' + 'spamspam' would result in 'spamspamspam'. It concatenates the string 'spam' with the string 'spamspam'.\n",
    "\n",
    "'spam' * 3:\n",
    "The * operator, when used with a string and an integer, performs string repetition.\n",
    "In this case, 'spam' * 3 would result in 'spamspamspam'. It repeats the string 'spam' three times."
   ]
  },
  {
   "cell_type": "markdown",
   "id": "5b50505f-d1e7-43ed-9a46-6ab2d8af19bb",
   "metadata": {},
   "source": [
    "Q8. Why is eggs a valid variable name while 100 is invalid?"
   ]
  },
  {
   "cell_type": "markdown",
   "id": "e2b2ebea-b464-42d0-a27d-7f0864ca2576",
   "metadata": {},
   "source": [
    "Validity of 'eggs' as a variable name:\\\n",
    "Variable names in Python can consist of letters (both uppercase and lowercase), digits, and underscores.\n",
    "However, they cannot start with a digit. They must start with a letter or an underscore.\n",
    "Since 'eggs' starts with a letter, it follows the rules and conventions for variable names in Python and is considered valid.\n",
    "\n",
    "Invalidity of 100 as a variable name:\\\n",
    "Variable names cannot start with a digit. They must start with a letter or an underscore.\n",
    "100 starts with a digit, violating this rule, and thus it is considered an invalid variable name."
   ]
  },
  {
   "cell_type": "markdown",
   "id": "a5d9da10-6bd8-4a7a-aed7-c4ad3cda087e",
   "metadata": {},
   "source": [
    "Q9. What three functions can be used to get the integer, floating-point number, or string\n",
    "version of a value?"
   ]
  },
  {
   "cell_type": "markdown",
   "id": "3cab0e32-82b1-4265-9d87-efb878793e61",
   "metadata": {},
   "source": [
    "int() function:\\\n",
    "The int() function can be used to convert a value to an integer.\n",
    "If the value is a string representing an integer, the function will convert it to an integer. For example, int('42') would return the integer 42.\n",
    "If the value is a floating-point number, the function will truncate the decimal part and return the integer portion. For example, int(3.14) would return 3.\n",
    "\n",
    "float() function:\\\n",
    "The float() function is used to convert a value to a floating-point number.\n",
    "If the value is a string representing a floating-point number, the function will convert it to a float. For example, float('3.14') would return the floating-point number 3.14.\n",
    "If the value is an integer, the function will convert it to a floating-point number. For example, float(42) would return 42.0.\n",
    "\n",
    "str() function:\\\n",
    "The str() function is used to convert a value to its string representation.\n",
    "It can convert various data types, including integers, floating-point numbers, booleans, and more, into strings. For example, str(42) would return the string '42'.\n"
   ]
  },
  {
   "cell_type": "code",
   "execution_count": 3,
   "id": "a3549f8a-87a5-45de-bce0-d78e021494ea",
   "metadata": {},
   "outputs": [],
   "source": [
    "#example\n",
    "value = '42'\n",
    "integer_value = int(value)       # Convert to integer: 42\n",
    "float_value = float(value)       # Convert to float: 42.0\n",
    "string_value = str(integer_value)  # Convert to string: '42'\n"
   ]
  },
  {
   "cell_type": "markdown",
   "id": "7ca89c2f-3c5b-4eeb-9c73-0147a9775aee",
   "metadata": {},
   "source": [
    "Q10. Why does this expression cause an error? How can you fix it?\\\n",
    "'I have eaten' + 99 + 'burritos'"
   ]
  },
  {
   "cell_type": "markdown",
   "id": "07e5c77e-acde-43b9-a5b4-54302fb7e297",
   "metadata": {},
   "source": [
    "The expression 'I have eaten' + 99 + 'burritos' causes an error because it attempts to concatenate a string with an integer value directly. String concatenation requires that all operands are of string type.\n",
    "\n",
    "To fix the error and make the expression valid, you can convert the integer value 99 to a string before concatenation.\\\n",
    "'I have eaten ' + str(99) + ' burritos'\n",
    "\n",
    "The str() function is used to convert the integer value 99 to a string before concatenating it with the other strings. \\\n",
    "'I have eaten ' + '99' + ' burritos'\n",
    "\n",
    "\n"
   ]
  },
  {
   "cell_type": "code",
   "execution_count": null,
   "id": "9a18ccc2-6612-4567-9cd7-26687e79f48d",
   "metadata": {},
   "outputs": [],
   "source": []
  }
 ],
 "metadata": {
  "kernelspec": {
   "display_name": "Python 3 (ipykernel)",
   "language": "python",
   "name": "python3"
  },
  "language_info": {
   "codemirror_mode": {
    "name": "ipython",
    "version": 3
   },
   "file_extension": ".py",
   "mimetype": "text/x-python",
   "name": "python",
   "nbconvert_exporter": "python",
   "pygments_lexer": "ipython3",
   "version": "3.10.6"
  }
 },
 "nbformat": 4,
 "nbformat_minor": 5
}
